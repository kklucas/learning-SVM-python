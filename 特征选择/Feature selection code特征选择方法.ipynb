{
 "cells": [
  {
   "cell_type": "code",
   "execution_count": 1,
   "metadata": {},
   "outputs": [],
   "source": [
    "import pandas as pd\n",
    "import numpy as np\n"
   ]
  },
  {
   "cell_type": "code",
   "execution_count": 2,
   "metadata": {},
   "outputs": [
    {
     "data": {
      "text/plain": [
       "Age             0\n",
       "Embarked        0\n",
       "Fare            0\n",
       "Parch           0\n",
       "Pclass          0\n",
       "Sex             0\n",
       "SibSp           0\n",
       "Survived        0\n",
       "professional    0\n",
       "Cabin_cat       0\n",
       "FamilySize      0\n",
       "is_alone?       0\n",
       "level           0\n",
       "dtype: int64"
      ]
     },
     "execution_count": 2,
     "metadata": {},
     "output_type": "execute_result"
    }
   ],
   "source": [
    "data=pd.read_csv('./shuju.csv',index_col=0)\n",
    "data=data[data.Survived.notnull()]\n",
    "data.isnull().sum()"
   ]
  },
  {
   "cell_type": "code",
   "execution_count": 3,
   "metadata": {},
   "outputs": [
    {
     "data": {
      "text/html": [
       "<div>\n",
       "<style scoped>\n",
       "    .dataframe tbody tr th:only-of-type {\n",
       "        vertical-align: middle;\n",
       "    }\n",
       "\n",
       "    .dataframe tbody tr th {\n",
       "        vertical-align: top;\n",
       "    }\n",
       "\n",
       "    .dataframe thead th {\n",
       "        text-align: right;\n",
       "    }\n",
       "</style>\n",
       "<table border=\"1\" class=\"dataframe\">\n",
       "  <thead>\n",
       "    <tr style=\"text-align: right;\">\n",
       "      <th></th>\n",
       "      <th>Age</th>\n",
       "      <th>Embarked</th>\n",
       "      <th>Fare</th>\n",
       "      <th>Parch</th>\n",
       "      <th>Pclass</th>\n",
       "      <th>Sex</th>\n",
       "      <th>SibSp</th>\n",
       "      <th>Survived</th>\n",
       "      <th>professional</th>\n",
       "      <th>Cabin_cat</th>\n",
       "      <th>FamilySize</th>\n",
       "      <th>is_alone?</th>\n",
       "      <th>level</th>\n",
       "    </tr>\n",
       "  </thead>\n",
       "  <tbody>\n",
       "    <tr>\n",
       "      <td>0</td>\n",
       "      <td>22</td>\n",
       "      <td>0</td>\n",
       "      <td>7.2500</td>\n",
       "      <td>0</td>\n",
       "      <td>3</td>\n",
       "      <td>0</td>\n",
       "      <td>1</td>\n",
       "      <td>0.0</td>\n",
       "      <td>1</td>\n",
       "      <td>0</td>\n",
       "      <td>2</td>\n",
       "      <td>0</td>\n",
       "      <td>1</td>\n",
       "    </tr>\n",
       "    <tr>\n",
       "      <td>1</td>\n",
       "      <td>38</td>\n",
       "      <td>1</td>\n",
       "      <td>71.2833</td>\n",
       "      <td>0</td>\n",
       "      <td>1</td>\n",
       "      <td>1</td>\n",
       "      <td>1</td>\n",
       "      <td>1.0</td>\n",
       "      <td>3</td>\n",
       "      <td>1</td>\n",
       "      <td>2</td>\n",
       "      <td>0</td>\n",
       "      <td>2</td>\n",
       "    </tr>\n",
       "    <tr>\n",
       "      <td>2</td>\n",
       "      <td>26</td>\n",
       "      <td>0</td>\n",
       "      <td>7.9250</td>\n",
       "      <td>0</td>\n",
       "      <td>3</td>\n",
       "      <td>1</td>\n",
       "      <td>0</td>\n",
       "      <td>1.0</td>\n",
       "      <td>2</td>\n",
       "      <td>0</td>\n",
       "      <td>1</td>\n",
       "      <td>1</td>\n",
       "      <td>1</td>\n",
       "    </tr>\n",
       "    <tr>\n",
       "      <td>3</td>\n",
       "      <td>35</td>\n",
       "      <td>0</td>\n",
       "      <td>53.1000</td>\n",
       "      <td>0</td>\n",
       "      <td>1</td>\n",
       "      <td>1</td>\n",
       "      <td>1</td>\n",
       "      <td>1.0</td>\n",
       "      <td>3</td>\n",
       "      <td>1</td>\n",
       "      <td>2</td>\n",
       "      <td>0</td>\n",
       "      <td>2</td>\n",
       "    </tr>\n",
       "    <tr>\n",
       "      <td>4</td>\n",
       "      <td>35</td>\n",
       "      <td>0</td>\n",
       "      <td>8.0500</td>\n",
       "      <td>0</td>\n",
       "      <td>3</td>\n",
       "      <td>0</td>\n",
       "      <td>0</td>\n",
       "      <td>0.0</td>\n",
       "      <td>1</td>\n",
       "      <td>0</td>\n",
       "      <td>1</td>\n",
       "      <td>1</td>\n",
       "      <td>2</td>\n",
       "    </tr>\n",
       "  </tbody>\n",
       "</table>\n",
       "</div>"
      ],
      "text/plain": [
       "   Age  Embarked     Fare  Parch  Pclass  Sex  SibSp  Survived  professional  \\\n",
       "0   22         0   7.2500      0       3    0      1       0.0             1   \n",
       "1   38         1  71.2833      0       1    1      1       1.0             3   \n",
       "2   26         0   7.9250      0       3    1      0       1.0             2   \n",
       "3   35         0  53.1000      0       1    1      1       1.0             3   \n",
       "4   35         0   8.0500      0       3    0      0       0.0             1   \n",
       "\n",
       "   Cabin_cat  FamilySize  is_alone?  level  \n",
       "0          0           2          0      1  \n",
       "1          1           2          0      2  \n",
       "2          0           1          1      1  \n",
       "3          1           2          0      2  \n",
       "4          0           1          1      2  "
      ]
     },
     "execution_count": 3,
     "metadata": {},
     "output_type": "execute_result"
    }
   ],
   "source": [
    "data.head()"
   ]
  },
  {
   "cell_type": "code",
   "execution_count": 4,
   "metadata": {},
   "outputs": [],
   "source": [
    "x=data.drop('Survived',axis=1)\n",
    "y=data.Survived"
   ]
  },
  {
   "cell_type": "code",
   "execution_count": 7,
   "metadata": {},
   "outputs": [
    {
     "data": {
      "text/plain": [
       "Age               int64\n",
       "Embarked          int64\n",
       "Fare            float64\n",
       "Parch             int64\n",
       "Pclass            int64\n",
       "Sex               int64\n",
       "SibSp             int64\n",
       "professional      int64\n",
       "Cabin_cat         int64\n",
       "FamilySize        int64\n",
       "is_alone?         int64\n",
       "level             int64\n",
       "dtype: object"
      ]
     },
     "execution_count": 7,
     "metadata": {},
     "output_type": "execute_result"
    }
   ],
   "source": [
    "x.dtypes"
   ]
  },
  {
   "cell_type": "code",
   "execution_count": 8,
   "metadata": {},
   "outputs": [],
   "source": [
    "from sklearn.model_selection import train_test_split\n",
    "X_train,X_test,y_train,y_test=train_test_split(x,y,test_size=0.2,random_state=1)"
   ]
  },
  {
   "cell_type": "markdown",
   "metadata": {},
   "source": [
    "# 利用相关性进行特征选择"
   ]
  },
  {
   "cell_type": "code",
   "execution_count": 20,
   "metadata": {},
   "outputs": [
    {
     "name": "stdout",
     "output_type": "stream",
     "text": [
      "Age\n",
      "(-0.07100930763791505, 0.03406501500378273)\n",
      "相关系数：-0.07100930763791505\n",
      "Embarked\n",
      "(0.10681138570891947, 0.0014083124205684283)\n",
      "相关系数：0.10681138570891947\n",
      "Fare\n",
      "(0.2573065223849624, 6.120189341917992e-15)\n",
      "相关系数：0.2573065223849624\n",
      "Parch\n",
      "(0.08162940708348347, 0.014799245374712841)\n",
      "相关系数：0.08162940708348347\n",
      "Pclass\n",
      "(-0.3384810359610153, 2.537047387978631e-25)\n",
      "相关系数：-0.3384810359610153\n",
      "Sex\n",
      "(0.5433513806577551, 1.406066130878875e-69)\n",
      "相关系数：0.5433513806577551\n",
      "SibSp\n",
      "(-0.03532249888573556, 0.2922439286980196)\n",
      "相关系数：-0.03532249888573556\n",
      "professional\n",
      "(0.40775315641965215, 5.153081178700784e-37)\n",
      "相关系数：0.40775315641965215\n",
      "Cabin_cat\n",
      "(0.31671324163457704, 3.2908559947377833e-22)\n",
      "相关系数：0.31671324163457704\n",
      "FamilySize\n",
      "(0.016638989282745213, 0.6198911221336836)\n",
      "相关系数：0.016638989282745213\n",
      "is_alone?\n",
      "(-0.2033670856998919, 9.009490179320951e-10)\n",
      "相关系数：-0.2033670856998919\n",
      "level\n",
      "(-0.06507391623152406, 0.05216574552164164)\n",
      "相关系数：-0.06507391623152406\n",
      "[-0.07100930763791505, 0.10681138570891947, 0.2573065223849624, 0.08162940708348347, -0.3384810359610153, 0.5433513806577551, -0.03532249888573556, 0.40775315641965215, 0.31671324163457704, 0.016638989282745213, -0.2033670856998919, -0.06507391623152406]\n",
      "                 相关系数值\n",
      "Pclass       -0.338481\n",
      "is_alone?    -0.203367\n",
      "Age          -0.071009\n",
      "level        -0.065074\n",
      "SibSp        -0.035322\n",
      "FamilySize    0.016639\n",
      "Parch         0.081629\n",
      "Embarked      0.106811\n",
      "Fare          0.257307\n",
      "Cabin_cat     0.316713\n",
      "professional  0.407753\n",
      "Sex           0.543351\n"
     ]
    }
   ],
   "source": [
    "from scipy.stats import pearsonr\n",
    "p=[]\n",
    "for i in (x.columns):\n",
    "    print(i)\n",
    "    print(pearsonr(x[i],y))\n",
    "    print('相关系数：%s'%pearsonr(x[i],y)[0])\n",
    "    p.append(pearsonr(x[i],y)[0])\n",
    "print(p)\n",
    "print(pd.DataFrame(p,index=x.columns,columns=['相关系数值']).sort_values(by='相关系数值'))   \n",
    "    \n",
    "    "
   ]
  },
  {
   "cell_type": "code",
   "execution_count": 21,
   "metadata": {},
   "outputs": [
    {
     "name": "stdout",
     "output_type": "stream",
     "text": [
      "Age\n",
      "(-0.06387932000159208, 0.0885198334271036)\n",
      "pearsonr 相关性为-0.06387932000159208\n",
      "**************************************************\n",
      "Embarked\n",
      "(0.11008614924030752, 0.0032689314981643723)\n",
      "pearsonr 相关性为0.11008614924030752\n",
      "**************************************************\n",
      "Fare\n",
      "(0.26992846235149714, 2.3649706527882585e-13)\n",
      "pearsonr 相关性为0.26992846235149714\n",
      "**************************************************\n",
      "Parch\n",
      "(0.11303929947590557, 0.0025223127230549597)\n",
      "pearsonr 相关性为0.11303929947590557\n",
      "**************************************************\n",
      "Pclass\n",
      "(-0.35636581595621714, 9.568044273008842e-23)\n",
      "pearsonr 相关性为-0.35636581595621714\n",
      "**************************************************\n",
      "Sex\n",
      "(0.546254441495388, 1.2603135934089752e-56)\n",
      "pearsonr 相关性为0.546254441495388\n",
      "**************************************************\n",
      "SibSp\n",
      "(-0.020049372414112566, 0.5932739532857771)\n",
      "pearsonr 相关性为-0.020049372414112566\n",
      "**************************************************\n",
      "professional\n",
      "(0.43833470164280286, 8.642805260138102e-35)\n",
      "pearsonr 相关性为0.43833470164280286\n",
      "**************************************************\n",
      "Cabin_cat\n",
      "(0.34339195159049973, 3.90475530582462e-21)\n",
      "pearsonr 相关性为0.34339195159049973\n",
      "**************************************************\n",
      "FamilySize\n",
      "(0.04481224930069207, 0.23238450590140572)\n",
      "pearsonr 相关性为0.04481224930069207\n",
      "**************************************************\n",
      "is_alone?\n",
      "(-0.23013572975246005, 5.178842405303109e-10)\n",
      "pearsonr 相关性为-0.23013572975246005\n",
      "**************************************************\n",
      "level\n",
      "(-0.05469886247469535, 0.14481989235760834)\n",
      "pearsonr 相关性为-0.05469886247469535\n",
      "**************************************************\n",
      "P [['Age', -0.06387932000159208], ['Embarked', 0.11008614924030752], ['Fare', 0.26992846235149714], ['Parch', 0.11303929947590557], ['Pclass', -0.35636581595621714], ['Sex', 0.546254441495388], ['SibSp', -0.020049372414112566], ['professional', 0.43833470164280286], ['Cabin_cat', 0.34339195159049973], ['FamilySize', 0.04481224930069207], ['is_alone?', -0.23013572975246005], ['level', -0.05469886247469535]]\n"
     ]
    }
   ],
   "source": [
    "# pearson 系数\n",
    "from scipy.stats import  pearsonr\n",
    "columns=X_train.columns\n",
    "p=[]\n",
    "for i in columns:\n",
    "    print(i)\n",
    "    print(pearsonr(x=X_train[i],y=y_train))\n",
    "    print('pearsonr 相关性为%s'%pearsonr(X_train[i],y_train)[0])\n",
    "    p.append([i,pearsonr(X_train[i],y_train)[0]])\n",
    "    print('*'*50)\n",
    "print('P',p)"
   ]
  },
  {
   "cell_type": "code",
   "execution_count": 22,
   "metadata": {},
   "outputs": [],
   "source": [
    "feature_importance=p\n",
    "feature_importance.sort(key=lambda x:x[1]) #排序"
   ]
  },
  {
   "cell_type": "code",
   "execution_count": 23,
   "metadata": {},
   "outputs": [
    {
     "data": {
      "text/plain": [
       "[-0.35636581595621714,\n",
       " -0.23013572975246005,\n",
       " -0.06387932000159208,\n",
       " -0.05469886247469535,\n",
       " -0.020049372414112566,\n",
       " 0.04481224930069207,\n",
       " 0.11008614924030752,\n",
       " 0.11303929947590557,\n",
       " 0.26992846235149714,\n",
       " 0.34339195159049973,\n",
       " 0.43833470164280286,\n",
       " 0.546254441495388]"
      ]
     },
     "execution_count": 23,
     "metadata": {},
     "output_type": "execute_result"
    }
   ],
   "source": [
    "[x[1] for x in p]"
   ]
  },
  {
   "cell_type": "code",
   "execution_count": 24,
   "metadata": {},
   "outputs": [
    {
     "data": {
      "text/plain": [
       "[['Pclass', -0.35636581595621714],\n",
       " ['is_alone?', -0.23013572975246005],\n",
       " ['Age', -0.06387932000159208],\n",
       " ['level', -0.05469886247469535],\n",
       " ['SibSp', -0.020049372414112566],\n",
       " ['FamilySize', 0.04481224930069207],\n",
       " ['Embarked', 0.11008614924030752],\n",
       " ['Parch', 0.11303929947590557],\n",
       " ['Fare', 0.26992846235149714],\n",
       " ['Cabin_cat', 0.34339195159049973],\n",
       " ['professional', 0.43833470164280286],\n",
       " ['Sex', 0.546254441495388]]"
      ]
     },
     "execution_count": 24,
     "metadata": {},
     "output_type": "execute_result"
    }
   ],
   "source": [
    "feature_importance"
   ]
  },
  {
   "cell_type": "markdown",
   "metadata": {},
   "source": [
    "# 利用模型进行筛选\n"
   ]
  },
  {
   "cell_type": "code",
   "execution_count": 25,
   "metadata": {},
   "outputs": [],
   "source": [
    "#检验\n",
    "import xgboost as xgb\n"
   ]
  },
  {
   "cell_type": "code",
   "execution_count": 26,
   "metadata": {},
   "outputs": [],
   "source": [
    "dtrain=xgb.DMatrix(X_train,label=y_train)\n",
    "dtest=xgb.DMatrix(X_test,label=y_test)\n"
   ]
  },
  {
   "cell_type": "code",
   "execution_count": null,
   "metadata": {},
   "outputs": [],
   "source": [
    "xgb."
   ]
  },
  {
   "cell_type": "code",
   "execution_count": 29,
   "metadata": {},
   "outputs": [
    {
     "name": "stdout",
     "output_type": "stream",
     "text": [
      "[0]\ttrain_N-auc:0.889227\ttets_T-auc:0.817136\n",
      "[1]\ttrain_N-auc:0.891337\ttets_T-auc:0.827022\n",
      "[2]\ttrain_N-auc:0.897824\ttets_T-auc:0.827152\n",
      "[3]\ttrain_N-auc:0.898596\ttets_T-auc:0.832256\n",
      "[4]\ttrain_N-auc:0.898789\ttets_T-auc:0.830447\n",
      "[5]\ttrain_N-auc:0.90009\ttets_T-auc:0.833807\n",
      "[6]\ttrain_N-auc:0.900879\ttets_T-auc:0.847764\n",
      "[7]\ttrain_N-auc:0.900476\ttets_T-auc:0.846278\n",
      "[8]\ttrain_N-auc:0.900253\ttets_T-auc:0.845632\n",
      "[9]\ttrain_N-auc:0.900413\ttets_T-auc:0.844986\n"
     ]
    }
   ],
   "source": [
    "params={\n",
    "    'booster':'gbtree',\n",
    "    'object':'rank:pairwise',\n",
    "    'eval_metric':'auc',\n",
    "    'gama':0.1,\n",
    "    'min_child_weight':2,\n",
    "    'max_depth':5,\n",
    "    'lambda':10,\n",
    "    'subsample':0.8,\n",
    "    'colsample bytree':0.8,\n",
    "    'eta':0.01,\n",
    "    'tree_method':'exact',\n",
    "    'seed':0,\n",
    "    'nthead':7\n",
    "}\n",
    "\n",
    "watchlist=[(dtrain,'train_N'),(dtest,'tets_T')]\n",
    "\n",
    "model=xgb.train(params,dtrain,num_boost_round=10,evals=watchlist)"
   ]
  },
  {
   "cell_type": "code",
   "execution_count": 30,
   "metadata": {},
   "outputs": [
    {
     "name": "stdout",
     "output_type": "stream",
     "text": [
      "[0]\ttrain-auc:0.877412\ttets-auc:0.813905\n",
      "[1]\ttrain-auc:0.883374\ttets-auc:0.813905\n",
      "[2]\ttrain-auc:0.88775\ttets-auc:0.814164\n",
      "[3]\ttrain-auc:0.890175\ttets-auc:0.815133\n",
      "[4]\ttrain-auc:0.890641\ttets-auc:0.815973\n",
      "[5]\ttrain-auc:0.890339\ttets-auc:0.817976\n",
      "[6]\ttrain-auc:0.890725\ttets-auc:0.818429\n",
      "[7]\ttrain-auc:0.891186\ttets-auc:0.820109\n",
      "[8]\ttrain-auc:0.891182\ttets-auc:0.819656\n",
      "[9]\ttrain-auc:0.894954\ttets-auc:0.832256\n"
     ]
    }
   ],
   "source": [
    "#删除一些重要性不高的\n",
    "\n",
    "delete_featuer=['Pclass']\n",
    "X_train_delete=X_train.drop(delete_featuer,axis=1)\n",
    "X_test_delete=X_test.drop(delete_featuer,axis=1)\n",
    "\n",
    "dtrain_delete=xgb.DMatrix(X_train_delete,label=y_train)\n",
    "dtest_delete=xgb.DMatrix(X_test_delete,label=y_test)\n",
    "\n",
    "params={\n",
    "    'booster':'gbtree',\n",
    "    'object':'rank:pairwise',\n",
    "    'eval_metric':'auc',\n",
    "    'gama':0.1,\n",
    "    'min_child_weight':2,\n",
    "    'max_depth':5,\n",
    "    'lambda':10,\n",
    "    'subsample':0.8,\n",
    "    'colsample bytree':0.8,\n",
    "    'eta':0.01,\n",
    "    'tree_method':'exact',\n",
    "    'seed':0,\n",
    "    'nthead':7\n",
    "}\n",
    "\n",
    "watchlist=[(dtrain_delete,'train'),(dtest_delete,'tets')]\n",
    "\n",
    "model=xgb.train(params,dtrain_delete,num_boost_round=10,evals=watchlist)"
   ]
  },
  {
   "cell_type": "markdown",
   "metadata": {},
   "source": [
    "# 基于模型选择"
   ]
  },
  {
   "cell_type": "code",
   "execution_count": 28,
   "metadata": {},
   "outputs": [],
   "source": [
    "from sklearn.ensemble import RandomForestClassifier\n",
    "from sklearn.model_selection import cross_val_score,ShuffleSplit\n",
    "\n",
    "import numpy as np\n",
    "from sklearn.metrics import roc_auc_score,roc_curve"
   ]
  },
  {
   "cell_type": "code",
   "execution_count": 29,
   "metadata": {},
   "outputs": [
    {
     "name": "stdout",
     "output_type": "stream",
     "text": [
      "0.7952904238618524\n"
     ]
    }
   ],
   "source": [
    "rf=RandomForestClassifier(n_estimators=200,\n",
    "                          max_depth=7,\n",
    "                          min_samples_leaf=6,\n",
    "                          random_state=0)\n",
    "rf.fit(X_train,y_train)\n",
    "pred=rf.predict(X_test)\n",
    "\n",
    "print(roc_auc_score(pred,y_test))\n"
   ]
  },
  {
   "cell_type": "code",
   "execution_count": 35,
   "metadata": {},
   "outputs": [],
   "source": [
    "tpr,fpr,threshold=roc_curve(y_test,rf.predict_proba(X_test)[:,1])"
   ]
  },
  {
   "cell_type": "code",
   "execution_count": 36,
   "metadata": {},
   "outputs": [
    {
     "data": {
      "text/plain": [
       "array([1.98256227, 0.98256227, 0.91146337, 0.90086923, 0.8600068 ,\n",
       "       0.84847313, 0.81203249, 0.79400339, 0.77055638, 0.68491124,\n",
       "       0.66875147, 0.63309432, 0.5996673 , 0.58161001, 0.56892436,\n",
       "       0.56830853, 0.48836212, 0.47556709, 0.46661319, 0.46469458,\n",
       "       0.44918852, 0.4344907 , 0.4330447 , 0.42225793, 0.42110254,\n",
       "       0.41957791, 0.39746925, 0.39340748, 0.3925616 , 0.38562443,\n",
       "       0.37264123, 0.32893245, 0.32294881, 0.28034633, 0.27133261,\n",
       "       0.18262769, 0.17609276, 0.17494184, 0.17038383, 0.16097398,\n",
       "       0.15635173, 0.14173737, 0.14127903, 0.14104668, 0.13527325,\n",
       "       0.11426539, 0.11218648, 0.11101261, 0.11048993, 0.10507347,\n",
       "       0.10431635, 0.10424856, 0.10351325, 0.10271413, 0.09688635,\n",
       "       0.0960938 , 0.08466768, 0.08423184, 0.07858348, 0.07665845,\n",
       "       0.05678358, 0.0555733 , 0.04177847])"
      ]
     },
     "execution_count": 36,
     "metadata": {},
     "output_type": "execute_result"
    }
   ],
   "source": [
    "threshold"
   ]
  },
  {
   "cell_type": "code",
   "execution_count": 62,
   "metadata": {
    "collapsed": true
   },
   "outputs": [],
   "source": [
    "feature_importance=[]\n",
    "\n",
    "for i in range(len(X_train.columns)):\n",
    "    '''计算每各特征的值'''\n",
    "    score=cross_val_score(rf,X=X_train.values[:,i:i+1],y=y_train,\n",
    "                          scoring='r2',\n",
    "                          cv=ShuffleSplit(n_splits=10,test_size=0.3,random_state=0))\n",
    "    feature_importance.append([X_train.columns[i],np.mean(score)])\n",
    "    feature_importance.sort(key=lambda x:x[1] )"
   ]
  },
  {
   "cell_type": "code",
   "execution_count": 66,
   "metadata": {},
   "outputs": [
    {
     "data": {
      "text/plain": [
       "[['Age', -0.63943835751598388],\n",
       " ['is_alone?', -0.62922951550236295],\n",
       " ['Parch', -0.60933570912290591],\n",
       " ['level', -0.53855649163859043],\n",
       " ['SibSp', -0.5346426386176274],\n",
       " ['Embarked', -0.52015453986577487],\n",
       " ['Pclass', -0.46089242634533856],\n",
       " ['FamilySize', -0.39716224952316953],\n",
       " ['Fare', -0.35661552357827014],\n",
       " ['Cabin_cat', -0.28656081743476519],\n",
       " ['Sex', 0.075206208243043721],\n",
       " ['professional', 0.11418967445481842]]"
      ]
     },
     "execution_count": 66,
     "metadata": {},
     "output_type": "execute_result"
    }
   ],
   "source": [
    "feature_importance"
   ]
  },
  {
   "cell_type": "code",
   "execution_count": 71,
   "metadata": {},
   "outputs": [
    {
     "data": {
      "text/plain": [
       "array([ 0.06080282,  0.01831161,  0.11077858,  0.01363728,  0.08758755,\n",
       "        0.25242957,  0.02553964,  0.27840005,  0.05586149,  0.06502587,\n",
       "        0.01116563,  0.02045991])"
      ]
     },
     "execution_count": 71,
     "metadata": {},
     "output_type": "execute_result"
    }
   ],
   "source": [
    "rf.feature_importances_"
   ]
  },
  {
   "cell_type": "code",
   "execution_count": 72,
   "metadata": {},
   "outputs": [
    {
     "data": {
      "text/plain": [
       "Index(['Age', 'Embarked', 'Fare', 'Parch', 'Pclass', 'Sex', 'SibSp',\n",
       "       'professional', 'Cabin_cat', 'FamilySize', 'is_alone?', 'level'],\n",
       "      dtype='object')"
      ]
     },
     "execution_count": 72,
     "metadata": {},
     "output_type": "execute_result"
    }
   ],
   "source": [
    "X_train.columns"
   ]
  },
  {
   "cell_type": "code",
   "execution_count": null,
   "metadata": {
    "collapsed": true
   },
   "outputs": [],
   "source": []
  },
  {
   "cell_type": "markdown",
   "metadata": {},
   "source": [
    "# 利用xgboost进行特征选择"
   ]
  },
  {
   "cell_type": "code",
   "execution_count": 81,
   "metadata": {},
   "outputs": [
    {
     "name": "stdout",
     "output_type": "stream",
     "text": [
      "[0]\ttrain-auc:0.879508\ttets-auc:0.797807\n",
      "[1]\ttrain-auc:0.882202\ttets-auc:0.811831\n",
      "[2]\ttrain-auc:0.884519\ttets-auc:0.805966\n",
      "[3]\ttrain-auc:0.886264\ttets-auc:0.810811\n",
      "[4]\ttrain-auc:0.88943\ttets-auc:0.81795\n",
      "[5]\ttrain-auc:0.893975\ttets-auc:0.830189\n",
      "[6]\ttrain-auc:0.894282\ttets-auc:0.833248\n",
      "[7]\ttrain-auc:0.894123\ttets-auc:0.832228\n",
      "[8]\ttrain-auc:0.894827\ttets-auc:0.833248\n",
      "[9]\ttrain-auc:0.894794\ttets-auc:0.834778\n"
     ]
    }
   ],
   "source": [
    "params={\n",
    "    'booster':'gbtree',\n",
    "    'object':'rank:pairwise',\n",
    "    'eval_metric':'auc',\n",
    "    'gama':0.1,\n",
    "    'min_child_weight':2,\n",
    "    'max_depth':5,\n",
    "    'lambda':10,\n",
    "    'subsample':0.8,\n",
    "    'colsample bytree':0.8,\n",
    "    'eta':0.01,\n",
    "    'tree_method':'exact',\n",
    "    'seed':0,\n",
    "    'nthead':7\n",
    "}\n",
    "\n",
    "watchlist=[(dtrain,'train'),(dtest,'tets')]\n",
    "\n",
    "model=xgb.train(params,dtrain,num_boost_round=10,evals=watchlist)"
   ]
  },
  {
   "cell_type": "code",
   "execution_count": 87,
   "metadata": {},
   "outputs": [
    {
     "data": {
      "text/plain": [
       "{'Age': 37,\n",
       " 'Cabin_cat': 14,\n",
       " 'Embarked': 6,\n",
       " 'FamilySize': 10,\n",
       " 'Fare': 41,\n",
       " 'Parch': 9,\n",
       " 'Pclass': 19,\n",
       " 'Sex': 3,\n",
       " 'SibSp': 6,\n",
       " 'professional': 19}"
      ]
     },
     "execution_count": 87,
     "metadata": {},
     "output_type": "execute_result"
    }
   ],
   "source": [
    "score=model.get_score();score #利用xgboost进行特征选择"
   ]
  },
  {
   "cell_type": "code",
   "execution_count": 88,
   "metadata": {},
   "outputs": [
    {
     "data": {
      "text/plain": [
       "['Cabin_cat',\n",
       " 'Fare',\n",
       " 'FamilySize',\n",
       " 'Parch',\n",
       " 'Pclass',\n",
       " 'Sex',\n",
       " 'Age',\n",
       " 'SibSp',\n",
       " 'Embarked',\n",
       " 'professional']"
      ]
     },
     "execution_count": 88,
     "metadata": {},
     "output_type": "execute_result"
    }
   ],
   "source": [
    "sorted(score,key=lambda x:x[1])"
   ]
  },
  {
   "cell_type": "markdown",
   "metadata": {},
   "source": [
    "# 利用正则化---L1"
   ]
  },
  {
   "cell_type": "code",
   "execution_count": 89,
   "metadata": {
    "collapsed": true
   },
   "outputs": [],
   "source": [
    "from sklearn.model_selection import train_test_split\n",
    "X_train,X_test,y_train,y_test=train_test_split(x,y,test_size=0.1,random_state=1)"
   ]
  },
  {
   "cell_type": "code",
   "execution_count": 90,
   "metadata": {
    "collapsed": true
   },
   "outputs": [],
   "source": [
    "from sklearn.linear_model import LogisticRegression"
   ]
  },
  {
   "cell_type": "code",
   "execution_count": 92,
   "metadata": {},
   "outputs": [
    {
     "name": "stdout",
     "output_type": "stream",
     "text": [
      "0.784138655462\n"
     ]
    }
   ],
   "source": [
    "lr=LogisticRegression(penalty='l1',random_state=0,n_jobs=-1).fit(X_train,y_train)\n",
    "pred=lr.predict(X_test)\n",
    "print(roc_auc_score(pred,y_test))"
   ]
  },
  {
   "cell_type": "code",
   "execution_count": 94,
   "metadata": {},
   "outputs": [
    {
     "data": {
      "text/plain": [
       "array([[-0.02744548,  0.20151151,  0.00264257, -0.19608371, -0.56985284,\n",
       "         2.1991179 , -0.41724485,  0.5397144 ,  0.61779283, -0.15719754,\n",
       "        -0.5639447 , -0.15606968]])"
      ]
     },
     "execution_count": 94,
     "metadata": {},
     "output_type": "execute_result"
    }
   ],
   "source": [
    "lr.coef_ #权重，如果权重越低，越不重要"
   ]
  },
  {
   "cell_type": "code",
   "execution_count": 98,
   "metadata": {},
   "outputs": [
    {
     "data": {
      "text/plain": [
       "array([-0.02744548,  0.20151151,  0.00264257, -0.19608371, -0.56985284,\n",
       "        2.1991179 , -0.41724485,  0.5397144 ,  0.61779283, -0.15719754,\n",
       "       -0.5639447 , -0.15606968])"
      ]
     },
     "execution_count": 98,
     "metadata": {},
     "output_type": "execute_result"
    }
   ],
   "source": [
    "lr.coef_[0]"
   ]
  },
  {
   "cell_type": "code",
   "execution_count": 95,
   "metadata": {
    "collapsed": true
   },
   "outputs": [],
   "source": [
    "feature_importance=[(i[0],i[1])for i in zip(X_train.columns,lr.coef_[0])]"
   ]
  },
  {
   "cell_type": "code",
   "execution_count": 104,
   "metadata": {
    "collapsed": true
   },
   "outputs": [],
   "source": [
    "import numpy as np\n",
    "feature_importance.sort(key=lambda x: np.abs(x[1]))"
   ]
  },
  {
   "cell_type": "code",
   "execution_count": 105,
   "metadata": {},
   "outputs": [
    {
     "data": {
      "text/plain": [
       "[('Fare', 0.0026425685656718931),\n",
       " ('Age', -0.027445482409325348),\n",
       " ('level', -0.1560696848255054),\n",
       " ('FamilySize', -0.15719753886798798),\n",
       " ('Parch', -0.19608371418826717),\n",
       " ('Embarked', 0.20151150660383529),\n",
       " ('SibSp', -0.41724485060361105),\n",
       " ('professional', 0.53971440086858258),\n",
       " ('is_alone?', -0.56394470017813703),\n",
       " ('Pclass', -0.56985283770491002),\n",
       " ('Cabin_cat', 0.61779282761801901),\n",
       " ('Sex', 2.1991179048394796)]"
      ]
     },
     "execution_count": 105,
     "metadata": {},
     "output_type": "execute_result"
    }
   ],
   "source": [
    "feature_importance"
   ]
  },
  {
   "cell_type": "raw",
   "metadata": {},
   "source": [
    "# 尝试把不重要的特征删除，重新跑一次模型"
   ]
  },
  {
   "cell_type": "markdown",
   "metadata": {},
   "source": [
    "# 利用L2进行 "
   ]
  },
  {
   "cell_type": "code",
   "execution_count": 106,
   "metadata": {},
   "outputs": [
    {
     "name": "stdout",
     "output_type": "stream",
     "text": [
      "0.784138655462\n"
     ]
    }
   ],
   "source": [
    "lr=LogisticRegression(penalty='l2',random_state=0,n_jobs=-1).fit(X_train,y_train)\n",
    "pred=lr.predict(X_test)\n",
    "print(roc_auc_score(pred,y_test))"
   ]
  },
  {
   "cell_type": "code",
   "execution_count": 107,
   "metadata": {},
   "outputs": [
    {
     "data": {
      "text/plain": [
       "[('Fare', 0.0026425685656718931),\n",
       " ('Age', -0.027445482409325348),\n",
       " ('level', -0.1560696848255054),\n",
       " ('FamilySize', -0.15719753886798798),\n",
       " ('Parch', -0.19608371418826717),\n",
       " ('Embarked', 0.20151150660383529),\n",
       " ('SibSp', -0.41724485060361105),\n",
       " ('professional', 0.53971440086858258),\n",
       " ('is_alone?', -0.56394470017813703),\n",
       " ('Pclass', -0.56985283770491002),\n",
       " ('Cabin_cat', 0.61779282761801901),\n",
       " ('Sex', 2.1991179048394796)]"
      ]
     },
     "execution_count": 107,
     "metadata": {},
     "output_type": "execute_result"
    }
   ],
   "source": [
    "feature_importance=[(i[0],i[1])for i in zip(X_train.columns,lr.coef_[0])]\n",
    "feature_importance.sort(key=lambda x: np.abs(x[1]))\n",
    "feature_importance"
   ]
  },
  {
   "cell_type": "markdown",
   "metadata": {},
   "source": [
    "# 基于稳定性"
   ]
  },
  {
   "cell_type": "code",
   "execution_count": 108,
   "metadata": {
    "collapsed": true
   },
   "outputs": [],
   "source": [
    "from sklearn.linear_model import RandomizedLasso #Randomized Lasso.\n",
    "rlassso=RandomizedLasso(alpha=0.025)"
   ]
  },
  {
   "cell_type": "code",
   "execution_count": 113,
   "metadata": {},
   "outputs": [
    {
     "data": {
      "text/plain": [
       "RandomizedLasso(alpha=0.025, eps=2.2204460492503131e-16, fit_intercept=True,\n",
       "        max_iter=500, memory=Memory(cachedir=None), n_jobs=1,\n",
       "        n_resampling=200, normalize=True, pre_dispatch='3*n_jobs',\n",
       "        precompute='auto', random_state=None, sample_fraction=0.75,\n",
       "        scaling=0.5, selection_threshold=0.25, verbose=False)"
      ]
     },
     "execution_count": 113,
     "metadata": {},
     "output_type": "execute_result"
    }
   ],
   "source": [
    "from sklearn.datasets import load_boston\n",
    "X,y=load_boston().data,load_boston().target\n",
    "rlassso.fit(X,y)"
   ]
  },
  {
   "cell_type": "code",
   "execution_count": 118,
   "metadata": {
    "collapsed": true
   },
   "outputs": [],
   "source": [
    "feature=[(i[0],i[1]) for i in zip(load_boston().feature_names,rlassso.scores_)]"
   ]
  },
  {
   "cell_type": "code",
   "execution_count": 120,
   "metadata": {},
   "outputs": [
    {
     "data": {
      "text/plain": [
       "[('AGE', 0.0050000000000000001),\n",
       " ('RAD', 0.014999999999999999),\n",
       " ('ZN', 0.050000000000000003),\n",
       " ('INDUS', 0.095000000000000001),\n",
       " ('DIS', 0.17999999999999999),\n",
       " ('NOX', 0.23000000000000001),\n",
       " ('TAX', 0.39500000000000002),\n",
       " ('CRIM', 0.435),\n",
       " ('CHAS', 0.65000000000000002),\n",
       " ('B', 0.66500000000000004),\n",
       " ('RM', 1.0),\n",
       " ('PTRATIO', 1.0),\n",
       " ('LSTAT', 1.0)]"
      ]
     },
     "execution_count": 120,
     "metadata": {},
     "output_type": "execute_result"
    }
   ],
   "source": [
    "feature.sort(key=lambda x:x[1]);feature"
   ]
  },
  {
   "cell_type": "markdown",
   "metadata": {},
   "source": [
    "# 基于递归算法 （每次删除一个）"
   ]
  },
  {
   "cell_type": "code",
   "execution_count": 121,
   "metadata": {
    "collapsed": true
   },
   "outputs": [],
   "source": [
    "from sklearn.feature_selection import  RFE"
   ]
  },
  {
   "cell_type": "code",
   "execution_count": 123,
   "metadata": {
    "collapsed": true
   },
   "outputs": [],
   "source": [
    "x=data.drop('Survived',axis=1)\n",
    "y=data.Survived\n",
    "X_train,X_test,y_train,y_test=train_test_split(x,y,test_size=0.1,random_state=1)"
   ]
  },
  {
   "cell_type": "code",
   "execution_count": 124,
   "metadata": {},
   "outputs": [
    {
     "name": "stdout",
     "output_type": "stream",
     "text": [
      "Fitting estimator with 12 features.\n",
      "Fitting estimator with 11 features.\n",
      "Fitting estimator with 10 features.\n",
      "Fitting estimator with 9 features.\n",
      "Fitting estimator with 8 features.\n",
      "Fitting estimator with 7 features.\n",
      "Fitting estimator with 6 features.\n",
      "Fitting estimator with 5 features.\n",
      "Fitting estimator with 4 features.\n",
      "Fitting estimator with 3 features.\n",
      "Fitting estimator with 2 features.\n"
     ]
    },
    {
     "data": {
      "text/plain": [
       "RFE(estimator=RandomForestClassifier(bootstrap=True, class_weight=None, criterion='gini',\n",
       "            max_depth=None, max_features='auto', max_leaf_nodes=None,\n",
       "            min_impurity_split=1e-07, min_samples_leaf=1,\n",
       "            min_samples_split=2, min_weight_fraction_leaf=0.0,\n",
       "            n_estimators=10, n_jobs=1, oob_score=False, random_state=None,\n",
       "            verbose=0, warm_start=False),\n",
       "  n_features_to_select=1, step=1, verbose=1)"
      ]
     },
     "execution_count": 124,
     "metadata": {},
     "output_type": "execute_result"
    }
   ],
   "source": [
    "rf=RandomForestClassifier()\n",
    "rfe=RFE(rf,n_features_to_select=1,verbose=1)#每次选择一个特征\n",
    "rfe.fit(X_train,y_train)"
   ]
  },
  {
   "cell_type": "code",
   "execution_count": 126,
   "metadata": {},
   "outputs": [
    {
     "data": {
      "text/plain": [
       "array([ 3, 10,  1, 11,  5,  4,  9,  2,  7,  6, 12,  8])"
      ]
     },
     "execution_count": 126,
     "metadata": {},
     "output_type": "execute_result"
    }
   ],
   "source": [
    "feature_importance=rfe.ranking_;feature_importance"
   ]
  },
  {
   "cell_type": "code",
   "execution_count": 127,
   "metadata": {
    "collapsed": true
   },
   "outputs": [],
   "source": [
    "feature_importance=sorted(zip(map(lambda x:round(x,4),rfe.ranking_),X_train.columns))"
   ]
  },
  {
   "cell_type": "code",
   "execution_count": 128,
   "metadata": {},
   "outputs": [
    {
     "data": {
      "text/plain": [
       "[(1, 'Fare'),\n",
       " (2, 'professional'),\n",
       " (3, 'Age'),\n",
       " (4, 'Sex'),\n",
       " (5, 'Pclass'),\n",
       " (6, 'FamilySize'),\n",
       " (7, 'Cabin_cat'),\n",
       " (8, 'level'),\n",
       " (9, 'SibSp'),\n",
       " (10, 'Embarked'),\n",
       " (11, 'Parch'),\n",
       " (12, 'is_alone?')]"
      ]
     },
     "execution_count": 128,
     "metadata": {},
     "output_type": "execute_result"
    }
   ],
   "source": [
    "feature_importance"
   ]
  },
  {
   "cell_type": "code",
   "execution_count": null,
   "metadata": {
    "collapsed": true
   },
   "outputs": [],
   "source": []
  }
 ],
 "metadata": {
  "kernelspec": {
   "display_name": "Python 3",
   "language": "python",
   "name": "python3"
  },
  "language_info": {
   "codemirror_mode": {
    "name": "ipython",
    "version": 3
   },
   "file_extension": ".py",
   "mimetype": "text/x-python",
   "name": "python",
   "nbconvert_exporter": "python",
   "pygments_lexer": "ipython3",
   "version": "3.7.4"
  }
 },
 "nbformat": 4,
 "nbformat_minor": 2
}
